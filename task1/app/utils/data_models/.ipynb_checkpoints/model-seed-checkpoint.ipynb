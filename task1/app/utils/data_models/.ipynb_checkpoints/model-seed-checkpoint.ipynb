{
 "cells": [
  {
   "cell_type": "markdown",
   "metadata": {},
   "source": [
    "# Packages and tensorflow initialisation"
   ]
  },
  {
   "cell_type": "code",
   "execution_count": 1,
   "metadata": {
    "executionInfo": {
     "elapsed": 1294,
     "status": "ok",
     "timestamp": 1626979931039,
     "user": {
      "displayName": "Marcelo Labre",
      "photoUrl": "",
      "userId": "03644214552719678622"
     },
     "user_tz": 240
    },
    "id": "yyYdE0BXBhUl"
   },
   "outputs": [],
   "source": [
    "import pandas as pd\n",
    "import datetime as dt\n",
    "import numpy as np"
   ]
  },
  {
   "cell_type": "code",
   "execution_count": 2,
   "metadata": {
    "colab": {
     "base_uri": "https://localhost:8080/"
    },
    "executionInfo": {
     "elapsed": 11,
     "status": "ok",
     "timestamp": 1626979931040,
     "user": {
      "displayName": "Marcelo Labre",
      "photoUrl": "",
      "userId": "03644214552719678622"
     },
     "user_tz": 240
    },
    "id": "EDVVeVYwBjn7",
    "outputId": "1ba4136d-0e79-460c-c5fa-545f25a214d9"
   },
   "outputs": [],
   "source": [
    "try:\n",
    "  %tensorflow_version 2.x # %tensorflow_version only exists in Colab.\n",
    "except Exception:\n",
    "  pass"
   ]
  },
  {
   "cell_type": "code",
   "execution_count": 3,
   "metadata": {
    "colab": {
     "base_uri": "https://localhost:8080/"
    },
    "executionInfo": {
     "elapsed": 2605,
     "status": "ok",
     "timestamp": 1626979933641,
     "user": {
      "displayName": "Marcelo Labre",
      "photoUrl": "",
      "userId": "03644214552719678622"
     },
     "user_tz": 240
    },
    "id": "UKgbf8KtBxcr",
    "outputId": "828fad52-9f6d-4a77-b5f0-169ab8548f3d"
   },
   "outputs": [
    {
     "name": "stderr",
     "output_type": "stream",
     "text": [
      "2022-01-12 21:09:04.425037: W tensorflow/stream_executor/platform/default/dso_loader.cc:60] Could not load dynamic library 'libcudart.so.11.0'; dlerror: libcudart.so.11.0: cannot open shared object file: No such file or directory\n",
      "2022-01-12 21:09:04.425072: I tensorflow/stream_executor/cuda/cudart_stub.cc:29] Ignore above cudart dlerror if you do not have a GPU set up on your machine.\n"
     ]
    },
    {
     "name": "stdout",
     "output_type": "stream",
     "text": [
      "2.4.1\n"
     ]
    }
   ],
   "source": [
    "import tensorflow as tf\n",
    "tf.keras.backend.clear_session()\n",
    "tf.keras.backend.set_floatx('float32')\n",
    "print(tf.__version__)"
   ]
  },
  {
   "cell_type": "code",
   "execution_count": 4,
   "metadata": {
    "executionInfo": {
     "elapsed": 7,
     "status": "ok",
     "timestamp": 1626979952214,
     "user": {
      "displayName": "Marcelo Labre",
      "photoUrl": "",
      "userId": "03644214552719678622"
     },
     "user_tz": 240
    },
    "id": "gTmNPL5qz5lC"
   },
   "outputs": [],
   "source": [
    "path = './'"
   ]
  },
  {
   "cell_type": "markdown",
   "metadata": {
    "id": "6LYbisVdijQY"
   },
   "source": [
    "---\n",
    "\n",
    "# Functions and model"
   ]
  },
  {
   "cell_type": "code",
   "execution_count": 5,
   "metadata": {
    "executionInfo": {
     "elapsed": 5,
     "status": "ok",
     "timestamp": 1626979952214,
     "user": {
      "displayName": "Marcelo Labre",
      "photoUrl": "",
      "userId": "03644214552719678622"
     },
     "user_tz": 240
    },
    "id": "kctHp3tN2gUL"
   },
   "outputs": [],
   "source": [
    "def _load_model(network,location):\n",
    "\n",
    "  model = MyModel(inputs=network['inputs'],units=network['units'],outputs=network['outputs'],seed=0)\n",
    "  model.load_weights(location)\n",
    "\n",
    "  return model"
   ]
  },
  {
   "cell_type": "code",
   "execution_count": 6,
   "metadata": {},
   "outputs": [],
   "source": [
    "def _calculate_indices(model, scenarios, benchmarks):    \n",
    "    d = {'index': np.array(list(scenarios.values()))}\n",
    "    tensorflow_output = model(d)\n",
    "    sigma = tensorflow_output['sigma'].numpy()\n",
    "    beta = tensorflow_output['beta'].numpy()\n",
    "    \n",
    "    prices = []\n",
    "    i = 0\n",
    "    for index, mapping in scenarios.items():\n",
    "        S = np.exp((sigma[i] ** 2.) / 2.)\n",
    "        B = np.sum(np.multiply(beta[i], benchmarks))\n",
    "        price = float(S * B)\n",
    "        prices.append(price)\n",
    "        i+=1\n",
    "        \n",
    "    return prices"
   ]
  },
  {
   "cell_type": "code",
   "execution_count": 7,
   "metadata": {
    "executionInfo": {
     "elapsed": 2,
     "status": "ok",
     "timestamp": 1626979953048,
     "user": {
      "displayName": "Marcelo Labre",
      "photoUrl": "",
      "userId": "03644214552719678622"
     },
     "user_tz": 240
    },
    "id": "-9-24Js5bo7x"
   },
   "outputs": [],
   "source": [
    "class MyModel(tf.keras.Model):\n",
    "\n",
    "  def __init__(self,inputs,units,outputs,seed=None,name='dummy',**kwargs):\n",
    "    super().__init__(name=name,**kwargs)\n",
    "    if seed:\n",
    "      tf.random.set_seed(seed=seed)\n",
    "\n",
    "    # Inputs\n",
    "    self._inputs = {}\n",
    "    for key in inputs:\n",
    "      self._inputs[key] = tf.keras.layers.Dense(units=units['input'],activation='linear',input_shape=(inputs[key],),name='input_layer_'+key,dtype=tf.float32)\n",
    "\n",
    "    # Outputs\n",
    "    n = []\n",
    "    for key in outputs:\n",
    "      n = n+[len(outputs[key])]\n",
    "    self._outputs = dict(zip(list(outputs.keys()),n))\n",
    "\n",
    "    # Layers\n",
    "    self._layers = []\n",
    "    for n in units['hidden']:\n",
    "      self._layers = self._layers+[tf.keras.layers.Dense(units=n,activation='relu',name='hidden_layer_'+str(n),dtype=tf.float32)]\n",
    "\n",
    "    n = sum(list(self._outputs.values()))\n",
    "    self._layers = self._layers+[tf.keras.layers.Dense(units=n,activation='linear',name='output_layer',dtype=tf.float32)]\n",
    "\n",
    "###\n",
    "  def __call__(self,inputs):\n",
    "\n",
    "    # Inputs\n",
    "    x = []\n",
    "    for key in self._inputs:\n",
    "      x = x+[self._inputs[key](inputs[key])]\n",
    "    print(x)\n",
    "    x = tf.keras.layers.Concatenate()(x)\n",
    "\n",
    "    # Network\n",
    "    for layer in self._layers:\n",
    "      x = layer(x)\n",
    "\n",
    "    # Outputs\n",
    "    n = list(self._outputs.values())\n",
    "    x = tf.exp(x)\n",
    "    y = dict(zip(list(self._outputs.keys()),tf.split(x,n,axis=1)))\n",
    "\n",
    "    return y"
   ]
  },
  {
   "cell_type": "markdown",
   "metadata": {
    "id": "65NCLIiJimVm"
   },
   "source": [
    "---\n",
    "\n",
    "# Usage"
   ]
  },
  {
   "cell_type": "markdown",
   "metadata": {},
   "source": [
    "## Model instantiation"
   ]
  },
  {
   "cell_type": "code",
   "execution_count": 8,
   "metadata": {
    "executionInfo": {
     "elapsed": 271,
     "status": "ok",
     "timestamp": 1626981202325,
     "user": {
      "displayName": "Marcelo Labre",
      "photoUrl": "",
      "userId": "03644214552719678622"
     },
     "user_tz": 240
    },
    "id": "pML3s_eNilyG"
   },
   "outputs": [],
   "source": [
    "inputs = {'index':6}\n",
    "outputs = {'beta': ['bmk1', \n",
    "                    'bmk2', \n",
    "                    'bmk3', \n",
    "                    'bmk4', \n",
    "                    'bmk5', \n",
    "                    'bmk6'\n",
    "                    ],\n",
    "           'sigma': ['sigma']}\n",
    "units = {'input':800,'hidden':[800]*8}"
   ]
  },
  {
   "cell_type": "code",
   "execution_count": 9,
   "metadata": {
    "executionInfo": {
     "elapsed": 260,
     "status": "ok",
     "timestamp": 1626981213087,
     "user": {
      "displayName": "Marcelo Labre",
      "photoUrl": "",
      "userId": "03644214552719678622"
     },
     "user_tz": 240
    },
    "id": "bMG9kZKXjCYg"
   },
   "outputs": [
    {
     "name": "stderr",
     "output_type": "stream",
     "text": [
      "2022-01-12 21:10:11.990980: I tensorflow/compiler/jit/xla_cpu_device.cc:41] Not creating XLA devices, tf_xla_enable_xla_devices not set\n",
      "2022-01-12 21:10:11.991295: W tensorflow/stream_executor/platform/default/dso_loader.cc:60] Could not load dynamic library 'libcuda.so.1'; dlerror: libcuda.so.1: cannot open shared object file: No such file or directory\n",
      "2022-01-12 21:10:11.991319: W tensorflow/stream_executor/cuda/cuda_driver.cc:326] failed call to cuInit: UNKNOWN ERROR (303)\n",
      "2022-01-12 21:10:11.991352: I tensorflow/stream_executor/cuda/cuda_diagnostics.cc:156] kernel driver does not appear to be running on this host (aaron-HP-EliteBook-850-G1): /proc/driver/nvidia/version does not exist\n",
      "2022-01-12 21:10:11.991698: I tensorflow/core/platform/cpu_feature_guard.cc:142] This TensorFlow binary is optimized with oneAPI Deep Neural Network Library (oneDNN) to use the following CPU instructions in performance-critical operations:  AVX2 FMA\n",
      "To enable them in other operations, rebuild TensorFlow with the appropriate compiler flags.\n",
      "2022-01-12 21:10:11.991949: I tensorflow/compiler/jit/xla_gpu_device.cc:99] Not creating XLA devices, tf_xla_enable_xla_devices not set\n"
     ]
    }
   ],
   "source": [
    "network = {'inputs':inputs,'outputs':outputs,'units':units}\n",
    "model = _load_model(network=network,location=path+'model-seed-weights')"
   ]
  },
  {
   "cell_type": "markdown",
   "metadata": {},
   "source": [
    "## Market data (benchmarks) loading"
   ]
  },
  {
   "cell_type": "code",
   "execution_count": 10,
   "metadata": {},
   "outputs": [],
   "source": [
    "benchmarks = [\n",
    "    {'date': dt.datetime(2021, 10, 1), 'bmk1': 1.072119, 'bmk2': 1.616101, 'bmk3': 3.995879, 'bmk4':  5.3125, 'bmk5': 1.341723, 'bmk6': 1.089426},\n",
    "    {'date': dt.datetime(2021, 10, 2), 'bmk1': 1.5447569, 'bmk2': 1.678678, 'bmk3': 3.995879, 'bmk4':  5.3125, 'bmk5': 1.341723, 'bmk6': 1.089426},\n",
    "    {'date': dt.datetime(2021, 10, 3), 'bmk1': 1.546745745, 'bmk2': 1.578587, 'bmk3': 3.995879, 'bmk4':  5.3125, 'bmk5': 1.341723, 'bmk6': 1.089426},\n",
    "    {'date': dt.datetime(2021, 10, 4), 'bmk1': 1.456754475, 'bmk2': 1.678678, 'bmk3': 3.68768, 'bmk4':  5.3125, 'bmk5': 1.67868, 'bmk6': 1.089426},\n",
    "    {'date': dt.datetime(2021, 10, 5), 'bmk1': 1.4675457, 'bmk2': 1.678687, 'bmk3': 3.995879, 'bmk4':  5.3125, 'bmk5': 1.341723, 'bmk6': 1.089426},\n",
    "    {'date': dt.datetime(2021, 10, 6), 'bmk1': 1.4756745, 'bmk2': 1.687687, 'bmk3': 4.678867, 'bmk4':  8.3125, 'bmk5': 1.341723, 'bmk6': 1.089426},\n",
    "    {'date': dt.datetime(2021, 10, 7), 'bmk1': 1.64574567, 'bmk2': 1.616101, 'bmk3': 3.995879, 'bmk4':  5.3125, 'bmk5': 1.688677, 'bmk6': 1.089426},\n",
    "    {'date': dt.datetime(2021, 10, 8), 'bmk1': 1.4574576, 'bmk2': 1.616101, 'bmk3': 3.995879, 'bmk4':  5.3125, 'bmk5': 1.341723, 'bmk6': 1.089426},\n",
    "    {'date': dt.datetime(2021, 10, 9), 'bmk1': 1.347367, 'bmk2': 1.616101, 'bmk3': 3.68768, 'bmk4':  5.3125, 'bmk5': 1.341723, 'bmk6': 1.089426},\n",
    "    {'date': dt.datetime(2021, 10, 10), 'bmk1': 1.4567, 'bmk2': 1.616101, 'bmk3': 3.995879, 'bmk4':  5.3125, 'bmk5': 1.341723, 'bmk6': 1.089426},\n",
    "    {'date': dt.datetime(2021, 10, 11), 'bmk1': 1.4567, 'bmk2': 1.616101, 'bmk3': 3.995879, 'bmk4':  5.3125, 'bmk5': 1.678686, 'bmk6': 1.089426},\n",
    "    {'date': dt.datetime(2021, 10, 12), 'bmk1': 1.45687458, 'bmk2': 1.616101, 'bmk3': 3.687867, 'bmk4':  5.3125, 'bmk5': 1.341723, 'bmk6': 1.089426},\n",
    "    {'date': dt.datetime(2021, 10, 13), 'bmk1': 1.65889, 'bmk2': 1.616101, 'bmk3': 3.67868, 'bmk4':  5.678687, 'bmk5': 1.341723, 'bmk6': 1.089426},\n",
    "    {'date': dt.datetime(2021, 10, 14), 'bmk1': 1.9709, 'bmk2': 1.616101, 'bmk3': 3.995879, 'bmk4':  5.3125, 'bmk5': 1.341723, 'bmk6': 1.089426}\n",
    "]\n",
    "benchmarks_df= pd.DataFrame(benchmarks)\n",
    "benchmarks_df.set_index(['date'], inplace=True)"
   ]
  },
  {
   "cell_type": "markdown",
   "metadata": {},
   "source": [
    "## Model invocation"
   ]
  },
  {
   "cell_type": "code",
   "execution_count": 11,
   "metadata": {
    "id": "4myyoSZgo05K"
   },
   "outputs": [
    {
     "name": "stdout",
     "output_type": "stream",
     "text": [
      "[<tf.Tensor: shape=(6, 800), dtype=float32, numpy=\n",
      "array([[-0.03892042,  0.02032918,  0.05747638, ...,  0.03380378,\n",
      "        -0.05639322, -0.05571949],\n",
      "       [ 0.05350377, -0.0538482 ,  0.04323954, ..., -0.0822597 ,\n",
      "         0.00739098, -0.01879218],\n",
      "       [ 0.05458874, -0.00067793,  0.03835099, ..., -0.05989525,\n",
      "        -0.07054627,  0.04640422],\n",
      "       [-0.04300158, -0.05560784, -0.04390336, ...,  0.00012511,\n",
      "         0.01788954,  0.03370185],\n",
      "       [-0.04546405, -0.07551252,  0.04041723, ...,  0.07408502,\n",
      "        -0.03596568,  0.00643631],\n",
      "       [ 0.0032205 , -0.04483266, -0.07229642, ..., -0.02901481,\n",
      "        -0.06878529, -0.04831756]], dtype=float32)>]\n"
     ]
    },
    {
     "ename": "ValueError",
     "evalue": "A `Concatenate` layer should be called on a list of at least 2 inputs",
     "output_type": "error",
     "traceback": [
      "\u001b[0;31m---------------------------------------------------------------------------\u001b[0m",
      "\u001b[0;31mValueError\u001b[0m                                Traceback (most recent call last)",
      "\u001b[0;32m/tmp/ipykernel_23580/1264976004.py\u001b[0m in \u001b[0;36m<module>\u001b[0;34m\u001b[0m\n\u001b[1;32m      9\u001b[0m \u001b[0;34m\u001b[0m\u001b[0m\n\u001b[1;32m     10\u001b[0m \u001b[0;31m# compute 6 index prices for a given date\u001b[0m\u001b[0;34m\u001b[0m\u001b[0;34m\u001b[0m\u001b[0;34m\u001b[0m\u001b[0m\n\u001b[0;32m---> 11\u001b[0;31m \u001b[0m_calculate_indices\u001b[0m\u001b[0;34m(\u001b[0m\u001b[0mmodel\u001b[0m\u001b[0;34m,\u001b[0m \u001b[0mscenarios\u001b[0m\u001b[0;34m,\u001b[0m \u001b[0mbenchmarks_df\u001b[0m\u001b[0;34m.\u001b[0m\u001b[0mloc\u001b[0m\u001b[0;34m[\u001b[0m\u001b[0;34m\"2021-10-06\"\u001b[0m\u001b[0;34m]\u001b[0m\u001b[0;34m)\u001b[0m\u001b[0;34m\u001b[0m\u001b[0;34m\u001b[0m\u001b[0m\n\u001b[0m",
      "\u001b[0;32m/tmp/ipykernel_23580/1270911685.py\u001b[0m in \u001b[0;36m_calculate_indices\u001b[0;34m(model, scenarios, benchmarks)\u001b[0m\n\u001b[1;32m      1\u001b[0m \u001b[0;32mdef\u001b[0m \u001b[0m_calculate_indices\u001b[0m\u001b[0;34m(\u001b[0m\u001b[0mmodel\u001b[0m\u001b[0;34m,\u001b[0m \u001b[0mscenarios\u001b[0m\u001b[0;34m,\u001b[0m \u001b[0mbenchmarks\u001b[0m\u001b[0;34m)\u001b[0m\u001b[0;34m:\u001b[0m\u001b[0;34m\u001b[0m\u001b[0;34m\u001b[0m\u001b[0m\n\u001b[1;32m      2\u001b[0m     \u001b[0md\u001b[0m \u001b[0;34m=\u001b[0m \u001b[0;34m{\u001b[0m\u001b[0;34m'index'\u001b[0m\u001b[0;34m:\u001b[0m \u001b[0mnp\u001b[0m\u001b[0;34m.\u001b[0m\u001b[0marray\u001b[0m\u001b[0;34m(\u001b[0m\u001b[0mlist\u001b[0m\u001b[0;34m(\u001b[0m\u001b[0mscenarios\u001b[0m\u001b[0;34m.\u001b[0m\u001b[0mvalues\u001b[0m\u001b[0;34m(\u001b[0m\u001b[0;34m)\u001b[0m\u001b[0;34m)\u001b[0m\u001b[0;34m)\u001b[0m\u001b[0;34m}\u001b[0m\u001b[0;34m\u001b[0m\u001b[0;34m\u001b[0m\u001b[0m\n\u001b[0;32m----> 3\u001b[0;31m     \u001b[0mtensorflow_output\u001b[0m \u001b[0;34m=\u001b[0m \u001b[0mmodel\u001b[0m\u001b[0;34m(\u001b[0m\u001b[0md\u001b[0m\u001b[0;34m)\u001b[0m\u001b[0;34m\u001b[0m\u001b[0;34m\u001b[0m\u001b[0m\n\u001b[0m\u001b[1;32m      4\u001b[0m     \u001b[0msigma\u001b[0m \u001b[0;34m=\u001b[0m \u001b[0mtensorflow_output\u001b[0m\u001b[0;34m[\u001b[0m\u001b[0;34m'sigma'\u001b[0m\u001b[0;34m]\u001b[0m\u001b[0;34m.\u001b[0m\u001b[0mnumpy\u001b[0m\u001b[0;34m(\u001b[0m\u001b[0;34m)\u001b[0m\u001b[0;34m\u001b[0m\u001b[0;34m\u001b[0m\u001b[0m\n\u001b[1;32m      5\u001b[0m     \u001b[0mbeta\u001b[0m \u001b[0;34m=\u001b[0m \u001b[0mtensorflow_output\u001b[0m\u001b[0;34m[\u001b[0m\u001b[0;34m'beta'\u001b[0m\u001b[0;34m]\u001b[0m\u001b[0;34m.\u001b[0m\u001b[0mnumpy\u001b[0m\u001b[0;34m(\u001b[0m\u001b[0;34m)\u001b[0m\u001b[0;34m\u001b[0m\u001b[0;34m\u001b[0m\u001b[0m\n",
      "\u001b[0;32m/tmp/ipykernel_23580/3395438049.py\u001b[0m in \u001b[0;36m__call__\u001b[0;34m(self, inputs)\u001b[0m\n\u001b[1;32m     33\u001b[0m       \u001b[0mx\u001b[0m \u001b[0;34m=\u001b[0m \u001b[0mx\u001b[0m\u001b[0;34m+\u001b[0m\u001b[0;34m[\u001b[0m\u001b[0mself\u001b[0m\u001b[0;34m.\u001b[0m\u001b[0m_inputs\u001b[0m\u001b[0;34m[\u001b[0m\u001b[0mkey\u001b[0m\u001b[0;34m]\u001b[0m\u001b[0;34m(\u001b[0m\u001b[0minputs\u001b[0m\u001b[0;34m[\u001b[0m\u001b[0mkey\u001b[0m\u001b[0;34m]\u001b[0m\u001b[0;34m)\u001b[0m\u001b[0;34m]\u001b[0m\u001b[0;34m\u001b[0m\u001b[0;34m\u001b[0m\u001b[0m\n\u001b[1;32m     34\u001b[0m     \u001b[0mprint\u001b[0m\u001b[0;34m(\u001b[0m\u001b[0mx\u001b[0m\u001b[0;34m)\u001b[0m\u001b[0;34m\u001b[0m\u001b[0;34m\u001b[0m\u001b[0m\n\u001b[0;32m---> 35\u001b[0;31m     \u001b[0mx\u001b[0m \u001b[0;34m=\u001b[0m \u001b[0mtf\u001b[0m\u001b[0;34m.\u001b[0m\u001b[0mkeras\u001b[0m\u001b[0;34m.\u001b[0m\u001b[0mlayers\u001b[0m\u001b[0;34m.\u001b[0m\u001b[0mConcatenate\u001b[0m\u001b[0;34m(\u001b[0m\u001b[0;34m)\u001b[0m\u001b[0;34m(\u001b[0m\u001b[0mx\u001b[0m\u001b[0;34m)\u001b[0m\u001b[0;34m\u001b[0m\u001b[0;34m\u001b[0m\u001b[0m\n\u001b[0m\u001b[1;32m     36\u001b[0m \u001b[0;34m\u001b[0m\u001b[0m\n\u001b[1;32m     37\u001b[0m     \u001b[0;31m# Network\u001b[0m\u001b[0;34m\u001b[0m\u001b[0;34m\u001b[0m\u001b[0;34m\u001b[0m\u001b[0m\n",
      "\u001b[0;32m~/.local/lib/python3.8/site-packages/tensorflow/python/keras/engine/base_layer.py\u001b[0m in \u001b[0;36m__call__\u001b[0;34m(self, *args, **kwargs)\u001b[0m\n\u001b[1;32m   1006\u001b[0m       \u001b[0;32mwith\u001b[0m \u001b[0mops\u001b[0m\u001b[0;34m.\u001b[0m\u001b[0mname_scope_v2\u001b[0m\u001b[0;34m(\u001b[0m\u001b[0mname_scope\u001b[0m\u001b[0;34m)\u001b[0m\u001b[0;34m:\u001b[0m\u001b[0;34m\u001b[0m\u001b[0;34m\u001b[0m\u001b[0m\n\u001b[1;32m   1007\u001b[0m         \u001b[0;32mif\u001b[0m \u001b[0;32mnot\u001b[0m \u001b[0mself\u001b[0m\u001b[0;34m.\u001b[0m\u001b[0mbuilt\u001b[0m\u001b[0;34m:\u001b[0m\u001b[0;34m\u001b[0m\u001b[0;34m\u001b[0m\u001b[0m\n\u001b[0;32m-> 1008\u001b[0;31m           \u001b[0mself\u001b[0m\u001b[0;34m.\u001b[0m\u001b[0m_maybe_build\u001b[0m\u001b[0;34m(\u001b[0m\u001b[0minputs\u001b[0m\u001b[0;34m)\u001b[0m\u001b[0;34m\u001b[0m\u001b[0;34m\u001b[0m\u001b[0m\n\u001b[0m\u001b[1;32m   1009\u001b[0m \u001b[0;34m\u001b[0m\u001b[0m\n\u001b[1;32m   1010\u001b[0m         with autocast_variable.enable_auto_cast_variables(\n",
      "\u001b[0;32m~/.local/lib/python3.8/site-packages/tensorflow/python/keras/engine/base_layer.py\u001b[0m in \u001b[0;36m_maybe_build\u001b[0;34m(self, inputs)\u001b[0m\n\u001b[1;32m   2708\u001b[0m         \u001b[0;31m# operations.\u001b[0m\u001b[0;34m\u001b[0m\u001b[0;34m\u001b[0m\u001b[0;34m\u001b[0m\u001b[0m\n\u001b[1;32m   2709\u001b[0m         \u001b[0;32mwith\u001b[0m \u001b[0mtf_utils\u001b[0m\u001b[0;34m.\u001b[0m\u001b[0mmaybe_init_scope\u001b[0m\u001b[0;34m(\u001b[0m\u001b[0mself\u001b[0m\u001b[0;34m)\u001b[0m\u001b[0;34m:\u001b[0m\u001b[0;34m\u001b[0m\u001b[0;34m\u001b[0m\u001b[0m\n\u001b[0;32m-> 2710\u001b[0;31m           \u001b[0mself\u001b[0m\u001b[0;34m.\u001b[0m\u001b[0mbuild\u001b[0m\u001b[0;34m(\u001b[0m\u001b[0minput_shapes\u001b[0m\u001b[0;34m)\u001b[0m  \u001b[0;31m# pylint:disable=not-callable\u001b[0m\u001b[0;34m\u001b[0m\u001b[0;34m\u001b[0m\u001b[0m\n\u001b[0m\u001b[1;32m   2711\u001b[0m       \u001b[0;31m# We must set also ensure that the layer is marked as built, and the build\u001b[0m\u001b[0;34m\u001b[0m\u001b[0;34m\u001b[0m\u001b[0;34m\u001b[0m\u001b[0m\n\u001b[1;32m   2712\u001b[0m       \u001b[0;31m# shape is stored since user defined build functions may not be calling\u001b[0m\u001b[0;34m\u001b[0m\u001b[0;34m\u001b[0m\u001b[0;34m\u001b[0m\u001b[0m\n",
      "\u001b[0;32m~/.local/lib/python3.8/site-packages/tensorflow/python/keras/utils/tf_utils.py\u001b[0m in \u001b[0;36mwrapper\u001b[0;34m(instance, input_shape)\u001b[0m\n\u001b[1;32m    270\u001b[0m     \u001b[0;32mif\u001b[0m \u001b[0minput_shape\u001b[0m \u001b[0;32mis\u001b[0m \u001b[0;32mnot\u001b[0m \u001b[0;32mNone\u001b[0m\u001b[0;34m:\u001b[0m\u001b[0;34m\u001b[0m\u001b[0;34m\u001b[0m\u001b[0m\n\u001b[1;32m    271\u001b[0m       \u001b[0minput_shape\u001b[0m \u001b[0;34m=\u001b[0m \u001b[0mconvert_shapes\u001b[0m\u001b[0;34m(\u001b[0m\u001b[0minput_shape\u001b[0m\u001b[0;34m,\u001b[0m \u001b[0mto_tuples\u001b[0m\u001b[0;34m=\u001b[0m\u001b[0;32mTrue\u001b[0m\u001b[0;34m)\u001b[0m\u001b[0;34m\u001b[0m\u001b[0;34m\u001b[0m\u001b[0m\n\u001b[0;32m--> 272\u001b[0;31m     \u001b[0moutput_shape\u001b[0m \u001b[0;34m=\u001b[0m \u001b[0mfn\u001b[0m\u001b[0;34m(\u001b[0m\u001b[0minstance\u001b[0m\u001b[0;34m,\u001b[0m \u001b[0minput_shape\u001b[0m\u001b[0;34m)\u001b[0m\u001b[0;34m\u001b[0m\u001b[0;34m\u001b[0m\u001b[0m\n\u001b[0m\u001b[1;32m    273\u001b[0m     \u001b[0;31m# Return shapes from `fn` as TensorShapes.\u001b[0m\u001b[0;34m\u001b[0m\u001b[0;34m\u001b[0m\u001b[0;34m\u001b[0m\u001b[0m\n\u001b[1;32m    274\u001b[0m     \u001b[0;32mif\u001b[0m \u001b[0moutput_shape\u001b[0m \u001b[0;32mis\u001b[0m \u001b[0;32mnot\u001b[0m \u001b[0;32mNone\u001b[0m\u001b[0;34m:\u001b[0m\u001b[0;34m\u001b[0m\u001b[0;34m\u001b[0m\u001b[0m\n",
      "\u001b[0;32m~/.local/lib/python3.8/site-packages/tensorflow/python/keras/layers/merge.py\u001b[0m in \u001b[0;36mbuild\u001b[0;34m(self, input_shape)\u001b[0m\n\u001b[1;32m    491\u001b[0m     \u001b[0;31m# Used purely for shape validation.\u001b[0m\u001b[0;34m\u001b[0m\u001b[0;34m\u001b[0m\u001b[0;34m\u001b[0m\u001b[0m\n\u001b[1;32m    492\u001b[0m     \u001b[0;32mif\u001b[0m \u001b[0;32mnot\u001b[0m \u001b[0misinstance\u001b[0m\u001b[0;34m(\u001b[0m\u001b[0minput_shape\u001b[0m\u001b[0;34m[\u001b[0m\u001b[0;36m0\u001b[0m\u001b[0;34m]\u001b[0m\u001b[0;34m,\u001b[0m \u001b[0mtuple\u001b[0m\u001b[0;34m)\u001b[0m \u001b[0;32mor\u001b[0m \u001b[0mlen\u001b[0m\u001b[0;34m(\u001b[0m\u001b[0minput_shape\u001b[0m\u001b[0;34m)\u001b[0m \u001b[0;34m<\u001b[0m \u001b[0;36m2\u001b[0m\u001b[0;34m:\u001b[0m\u001b[0;34m\u001b[0m\u001b[0;34m\u001b[0m\u001b[0m\n\u001b[0;32m--> 493\u001b[0;31m       raise ValueError('A `Concatenate` layer should be called '\n\u001b[0m\u001b[1;32m    494\u001b[0m                        'on a list of at least 2 inputs')\n\u001b[1;32m    495\u001b[0m     \u001b[0;32mif\u001b[0m \u001b[0mall\u001b[0m\u001b[0;34m(\u001b[0m\u001b[0mshape\u001b[0m \u001b[0;32mis\u001b[0m \u001b[0;32mNone\u001b[0m \u001b[0;32mfor\u001b[0m \u001b[0mshape\u001b[0m \u001b[0;32min\u001b[0m \u001b[0minput_shape\u001b[0m\u001b[0;34m)\u001b[0m\u001b[0;34m:\u001b[0m\u001b[0;34m\u001b[0m\u001b[0;34m\u001b[0m\u001b[0m\n",
      "\u001b[0;31mValueError\u001b[0m: A `Concatenate` layer should be called on a list of at least 2 inputs"
     ]
    }
   ],
   "source": [
    "# scenario definition / mapping\n",
    "scenarios = {}\n",
    "scenarios['1'] = [1,0,0,0,0,0] # index 1\n",
    "scenarios['2'] = [0,1,0,0,0,0] # index 2\n",
    "scenarios['3'] = [0,0,1,0,0,0] # index 3\n",
    "scenarios['4'] = [0,0,0,1,0,0] # index 4\n",
    "scenarios['5'] = [0,0,0,0,1,0] # index 5\n",
    "scenarios['6'] = [0,0,0,0,0,1] # index 6\n",
    "\n",
    "# compute 6 index prices for a given date\n",
    "_calculate_indices(model, scenarios, benchmarks_df.loc[\"2021-10-06\"])"
   ]
  },
  {
   "cell_type": "markdown",
   "metadata": {},
   "source": [
    "# API Specification"
   ]
  },
  {
   "cell_type": "markdown",
   "metadata": {},
   "source": [
    "POST {{url}}/api/v1/pricing"
   ]
  },
  {
   "cell_type": "code",
   "execution_count": null,
   "metadata": {},
   "outputs": [],
   "source": [
    "# input payload\n",
    "{\n",
    "  \"start_date\": \"2021-10-01\",\n",
    "  \"end_date\": \"2021-10-10\",\n",
    "  \"scenarios\": [\n",
    "    {\n",
    "      \"project\": {\"index\": \"1\"}\n",
    "    },\n",
    "    {\n",
    "      \"project\": {\"index\": \"2\"}\n",
    "    },\n",
    "    {\n",
    "      \"project\": {\"index\": \"3\"}\n",
    "    },\n",
    "    {\n",
    "      \"project\": {\"index\": \"4\"}\n",
    "    },\n",
    "    {\n",
    "      \"project\": {\"index\": \"5\"}\n",
    "    },\n",
    "    {\n",
    "      \"project\": {\"index\": \"6\"}\n",
    "    }\n",
    "  ]\n",
    "}"
   ]
  },
  {
   "cell_type": "code",
   "execution_count": null,
   "metadata": {},
   "outputs": [],
   "source": [
    "# output payload\n",
    "[\n",
    "    {\n",
    "        \"project\": {\n",
    "            \"index\": \"1\"\n",
    "        },\n",
    "        \"history\": [\n",
    "            {\n",
    "                \"date\": \"2021-10-01\",\n",
    "                \"price\": 23.73853302001953\n",
    "            },\n",
    "            {\n",
    "                \"date\": \"2021-10-02\",\n",
    "                \"price\": 23.73853302001953\n",
    "            },\n",
    "            ...\n",
    "            {\n",
    "                \"date\": \"2021-10-09\",\n",
    "                \"price\": 23.73853302001953\n",
    "            },\n",
    "            {\n",
    "                \"date\": \"2021-10-10\",\n",
    "                \"price\": 23.73853302001953\n",
    "            }\n",
    "        ]\n",
    "    },\n",
    "    {\n",
    "        \"project\": {\n",
    "            \"index\": \"2\"\n",
    "        },\n",
    "        \"history\": [\n",
    "            {\n",
    "                \"date\": \"2021-10-01\",\n",
    "                \"price\": 23.745874404907227\n",
    "            },\n",
    "            {\n",
    "                \"date\": \"2021-10-02\",\n",
    "                \"price\": 23.745874404907227\n",
    "            },\n",
    "            ...\n",
    "            {\n",
    "                \"date\": \"2021-10-09\",\n",
    "                \"price\": 23.745874404907227\n",
    "            },\n",
    "            {\n",
    "                \"date\": \"2021-10-10\",\n",
    "                \"price\": 23.745874404907227\n",
    "            }\n",
    "        ]\n",
    "    }.\n",
    "    ...\n",
    "]"
   ]
  }
 ],
 "metadata": {
  "colab": {
   "authorship_tag": "ABX9TyNVR/I3tccrJx8oK4S5+kRC",
   "collapsed_sections": [],
   "name": "model-seed.ipynb",
   "provenance": []
  },
  "kernelspec": {
   "display_name": "Python 3 (ipykernel)",
   "language": "python",
   "name": "python3"
  },
  "language_info": {
   "codemirror_mode": {
    "name": "ipython",
    "version": 3
   },
   "file_extension": ".py",
   "mimetype": "text/x-python",
   "name": "python",
   "nbconvert_exporter": "python",
   "pygments_lexer": "ipython3",
   "version": "3.8.10"
  }
 },
 "nbformat": 4,
 "nbformat_minor": 1
}
